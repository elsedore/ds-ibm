{
 "cells": [
  {
   "cell_type": "markdown",
   "id": "0ac1549e-dc90-4d75-b10f-d485cef3c481",
   "metadata": {},
   "source": [
    "# Data Science Tools and Ecosystem"
   ]
  },
  {
   "cell_type": "markdown",
   "id": "f8f21c91-5f4a-45d2-a7f0-e2ab0cc2c30b",
   "metadata": {},
   "source": [
    "##### In this notebook, Data Science Tools and Ecosystem are summarized."
   ]
  },
  {
   "cell_type": "markdown",
   "id": "d9484fc6-8a68-47df-a76f-f44976cf3f06",
   "metadata": {},
   "source": [
    "###### **Objectives:**\n",
    "- List popular languages for Data Science\n",
    "- List popular data science tools\n",
    "- List popular data science libraries\n",
    "- List Data Science common free tools\n"
   ]
  },
  {
   "cell_type": "markdown",
   "id": "7b95530e-980d-42d7-b48f-5686807ae63f",
   "metadata": {},
   "source": [
    "##### Some of the popular languages that Data Scientists use are:\n",
    "1. Python\n",
    "2. R\n",
    "3. SQL"
   ]
  },
  {
   "cell_type": "markdown",
   "id": "130cd1d6-ede6-4210-993e-461c13187e15",
   "metadata": {},
   "source": [
    "##### Some of the commonly used libraries used by Data Scientists include:\n",
    "* Matplotlib\n",
    "* NumPy\n",
    "* Pandas"
   ]
  },
  {
   "cell_type": "markdown",
   "id": "5aaf832d-821e-42c2-82a3-64780d3a8e7a",
   "metadata": {},
   "source": [
    "##### Data Science Tools\n",
    "|Data Science Tools |\n",
    "|-------------------|\n",
    "|JupyterLab         |\n",
    "|RStudio            |\n",
    "|TensorFlow         |"
   ]
  },
  {
   "cell_type": "markdown",
   "id": "f7b967e8-58b2-4b28-9a6a-8b9d9f3704a7",
   "metadata": {},
   "source": [
    "### Below are a few examples of evaluating arithmetic expressions in Python"
   ]
  },
  {
   "cell_type": "code",
   "execution_count": 1,
   "id": "aea373f0-68cc-4d14-80c1-21d983f4f145",
   "metadata": {},
   "outputs": [
    {
     "name": "stdout",
     "output_type": "stream",
     "text": [
      "17\n"
     ]
    }
   ],
   "source": [
    "# This a simple arithmetic expression to mutiply then add integers \n",
    "print((3*4)+5)"
   ]
  },
  {
   "cell_type": "code",
   "execution_count": 3,
   "id": "941ba586-9e4b-4b2c-bbec-6e092030a0a8",
   "metadata": {},
   "outputs": [
    {
     "name": "stdout",
     "output_type": "stream",
     "text": [
      "3.3333333333333335\n"
     ]
    }
   ],
   "source": [
    "# This will convert 200 minutes to hours by diving by 60\n",
    "print (200/60)"
   ]
  },
  {
   "cell_type": "markdown",
   "id": "3a64037d-d47e-4f64-942a-2d1bb26fb7fa",
   "metadata": {},
   "source": [
    "## Author\n",
    "DORE Elsa"
   ]
  }
 ],
 "metadata": {
  "kernelspec": {
   "display_name": "Python 3 (ipykernel)",
   "language": "python",
   "name": "python3"
  },
  "language_info": {
   "codemirror_mode": {
    "name": "ipython",
    "version": 3
   },
   "file_extension": ".py",
   "mimetype": "text/x-python",
   "name": "python",
   "nbconvert_exporter": "python",
   "pygments_lexer": "ipython3",
   "version": "3.12.8"
  }
 },
 "nbformat": 4,
 "nbformat_minor": 5
}
